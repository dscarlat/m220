{
 "cells": [
  {
   "cell_type": "markdown",
   "metadata": {
    "slideshow": {
     "slide_type": "slide"
    }
   },
   "source": [
    "<img src=\"https://s3.amazonaws.com/edu-static.mongodb.com/lessons/M220/notebook_assets/screen_align.png\" style=\"margin: 0 auto;\">\n"
   ]
  },
  {
   "cell_type": "markdown",
   "metadata": {
    "slideshow": {
     "slide_type": "slide"
    }
   },
   "source": [
    "<h1 style=\"text-align: center; font-size=58px;\">Principle of Least Privilege</h1>\n",
    "> Every program and every privileged user of the system should operate using the least amount of  privilege necessary to complete the job.\n",
    ">\n",
    "> — <cite>Jerome Saltzer, Communications of the ACM</cite>"
   ]
  },
  {
   "cell_type": "markdown",
   "metadata": {
    "slideshow": {
     "slide_type": "notes"
    }
   },
   "source": [
    "In this lesson we're going to talk about the Principle of Least Privilege."
   ]
  },
  {
   "cell_type": "markdown",
   "metadata": {
    "slideshow": {
     "slide_type": "slide"
    }
   },
   "source": [
    "<img src=\"https://s3.amazonaws.com/edu-static.mongodb.com/lessons/M220/notebook_assets/polp.png\" style=\"margin: 0 auto;\">"
   ]
  },
  {
   "cell_type": "markdown",
   "metadata": {
    "slideshow": {
     "slide_type": "notes"
    }
   },
   "source": [
    "Security is a multi-tiered effort. \n",
    "\n",
    "Atlas ensures the traffic being transmitted from the application to the database is encrypted in transit. We also make sure to hash mflix user passwords before storing them in the database.\n",
    "\n",
    "At the appication layer, we make sure that certain resources are only available to logged in users, and those users have permissions to perform an action, such as deleting only their own comments.\n",
    "\n",
    "But why stop there?"
   ]
  },
  {
   "cell_type": "markdown",
   "metadata": {
    "slideshow": {
     "slide_type": "slide"
    }
   },
   "source": [
    "![noun_lock](https://s3.amazonaws.com/edu-static.mongodb.com/lessons/M220/notebook_assets/noun_lock.png)"
   ]
  },
  {
   "cell_type": "markdown",
   "metadata": {
    "slideshow": {
     "slide_type": "notes"
    }
   },
   "source": [
    "MongoDB offers robust user management at the database level, and we should use it. And since we are using Atlas, this is made even easier because of the graphical interface. \n",
    "\n",
    "By creating a database user specifically for the application, we can, in a more granular way, select the privileges and resources MFlix has access to.\n",
    "\n",
    "Should the application have the ability to create indexes, new collections, or drop the entire database?\n",
    "\n",
    "Questions like these aren't always fun to ask and answer, but they are absolutely necessary.\n",
    "\n",
    "That's all for now. We highly recommend that you take our MongoDB Security course to learn more to help secure and harden your own MongoDB deployments."
   ]
  },
  {
   "cell_type": "markdown",
   "metadata": {
    "slideshow": {
     "slide_type": "slide"
    }
   },
   "source": [
    "## Summary\n",
    "\n",
    "- Engineer systems with the principle of least privilege in mind\n",
    "- Consider what kinds of users and what permission they will have.\n",
    "    - Application users that log into the application itself\n",
    "    - Database users\n",
    "        - Administrative database users that can create indexes, import data, and so on\n",
    "        - Application database users that only have priveleges they require."
   ]
  }
 ],
 "metadata": {
  "celltoolbar": "Slideshow",
  "kernelspec": {
   "display_name": "Python 3",
   "language": "python",
   "name": "python3"
  },
  "language_info": {
   "codemirror_mode": {
    "name": "ipython",
    "version": 3
   },
   "file_extension": ".py",
   "mimetype": "text/x-python",
   "name": "python",
   "nbconvert_exporter": "python",
   "pygments_lexer": "ipython3",
   "version": "3.6.5"
  }
 },
 "nbformat": 4,
 "nbformat_minor": 2
}
