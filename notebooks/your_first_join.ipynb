{
 "cells": [
  {
   "cell_type": "markdown",
   "metadata": {
    "slideshow": {
     "slide_type": "slide"
    }
   },
   "source": [
    "<img src=\"https://s3.amazonaws.com/edu-static.mongodb.com/lessons/M220/notebook_assets/screen_align.png\" style=\"margin: 0 auto;\">\n"
   ]
  },
  {
   "cell_type": "markdown",
   "metadata": {
    "slideshow": {
     "slide_type": "slide"
    }
   },
   "source": [
    "<h1 style=\"text-align: center; font-size=58px;\">Your First Join</h1>"
   ]
  },
  {
   "cell_type": "markdown",
   "metadata": {
    "slideshow": {
     "slide_type": "notes"
    }
   },
   "source": [
    "In this lesson we're going to cover joins in MongoDB."
   ]
  },
  {
   "cell_type": "markdown",
   "metadata": {
    "slideshow": {
     "slide_type": "slide"
    }
   },
   "source": [
    "- Join two collections of data\n",
    "    - Movies and comments\n",
    "- Use new expressive `$lookup`\n",
    "- Build aggregation in Compass, and then export to language"
   ]
  },
  {
   "cell_type": "markdown",
   "metadata": {
    "slideshow": {
     "slide_type": "notes"
    }
   },
   "source": [
    "Joins are used to combine data from two or more different collections. This is true for all database systems, but the implementation is different in MongoDB.\n",
    "\n",
    "The join we're doing is between the `movies` and `comments` collections. Each comment posted by a user is associated with one specific movie, and we want to count how many comments are associated with each movie. Users use comments as a way to discuss movies, so we can think of this like a popularity contest - which movies are talked about the most on our site?\n",
    "\n",
    "We're going to use the new expressive `$lookup` so we can express a pipeline for the data that we're joining. This might not make sense right now, so we'll explore what that means in a minute. We're going to build this pipeline in Compass using the Mongo shell syntax, and then use Compass' Export-to-Language feature to produce code that we can use directly in our application's native language."
   ]
  },
  {
   "cell_type": "markdown",
   "metadata": {
    "slideshow": {
     "slide_type": "slide"
    }
   },
   "source": [
    "```javascript\n",
    "{ year: { '$gte': 1980, '$lt': 1990 } }\n",
    "```"
   ]
  },
  {
   "cell_type": "markdown",
   "metadata": {
    "slideshow": {
     "slide_type": "notes"
    }
   },
   "source": [
    "So I've just put a little match stage here, because I'm personally only concerned with movies that came out in the 1980s: a decade highlighted by the rise of the personal computer, the mullet hairstyle, and Black Sabbath.\n",
    "\n",
    "I've specified a `$match` (point) stage in Compass, as the first stage in my pipeline."
   ]
  },
  {
   "cell_type": "markdown",
   "metadata": {
    "slideshow": {
     "slide_type": "slide"
    }
   },
   "source": [
    "```javascript\n",
    "{\n",
    "  from: 'comments',\n",
    "  let: { 'id': '$_id' },\n",
    "  pipeline: [\n",
    "    { '$match':\n",
    "      { '$expr': { '$eq': [ '$movie_id', '$$id' ] } }\n",
    "    }\n",
    "  ],\n",
    "  as: 'movie_comments'\n",
    "}\n",
    "```"
   ]
  },
  {
   "cell_type": "markdown",
   "metadata": {
    "slideshow": {
     "slide_type": "notes"
    }
   },
   "source": [
    "Now this is where my join happens. This is a `$lookup` (point) stage, and in the expressive version, there are four fields: `from`, `let`, `pipeline`, and `as`.\n",
    "\n",
    "`from` is the collection that we're joining from. We're running this aggregation against the `movies` collection, and we want to join from the `comments` collection.\n",
    "\n",
    "`let` is where this starts to get complicated. The `pipeline` (point) we write inside the join has access to the fields of documents inside the `comments` collection, because that's the collection we're joining. But it doesn't have access to fields inside the `movies` documents, unless we specify them in `let`. We want to use the `_id` of our `movies` documents inside our pipeline, so we declare this variable `id`, and assign to it the `$_id`.\n",
    "\n",
    "If we look inside the pipeline, we can see that we referred to this variable using two (point) dollar signs, because the variables inside the pipeline with one (point) dollar signs refer to fields inside the `comments` documents. The variables with two dollar signs refer to variables we declared in `$let`.\n",
    "\n",
    "The pipeline itself only has one match stage right now, and it's matching the `movie_id` of the comment to the `_id` of the movie. We've set `as` to `movie_comments`, so each movie document will have an array field called `movie_comments` that contains a list of all the comments associated with that movie."
   ]
  },
  {
   "cell_type": "markdown",
   "metadata": {
    "slideshow": {
     "slide_type": "notes"
    }
   },
   "source": [
    "Now, I embedded all the `comment` documents inside each movie, but all I really want to figure out is how many comments are associated with each movie. I don't really care what each comment says, who wrote it, or when it was written."
   ]
  },
  {
   "cell_type": "markdown",
   "metadata": {
    "slideshow": {
     "slide_type": "slide"
    }
   },
   "source": [
    "```javascript\n",
    "{\n",
    "  from: 'comments',\n",
    "  let: { 'id': '$_id' },\n",
    "  pipeline: [\n",
    "    { '$match':\n",
    "      { '$expr': { '$eq': [ '$movie_id', '$$id' ] } }\n",
    "    },\n",
    "    {\n",
    "      '$count': 'count'\n",
    "    }\n",
    "  ],\n",
    "  as: 'movie_comments'\n",
    "}\n",
    "```"
   ]
  },
  {
   "cell_type": "markdown",
   "metadata": {
    "slideshow": {
     "slide_type": "notes"
    }
   },
   "source": [
    "So here I've specified a new stage in my pipeline. It's a `$count` stage that counts all documents that pass into it. Since we already used a `$match` stage to ensure comments only belonged to this movie, this meets our needs perfectly. And as we can see, we've ended up with a single count of comments for each movie, instead of an array of `comment` documents.\n",
    "\n",
    "This pipeline (point) feature in expressive lookup is very useful, because it allows us to transform the comments data returned by a join, before that data gets embedded inside the movies document."
   ]
  },
  {
   "cell_type": "markdown",
   "metadata": {
    "slideshow": {
     "slide_type": "notes"
    }
   },
   "source": [
    "Now that we've written out our pipeline, and verified that our output documents look the way we expect, we can export the pipeline to our chosen programming language. The languages currently supported by Compass are Python 3, Node.js, Java, and C#."
   ]
  },
  {
   "cell_type": "markdown",
   "metadata": {
    "slideshow": {
     "slide_type": "slide"
    }
   },
   "source": [
    "## Summary\n",
    "\n",
    "- Expressive lookup allows us to apply aggregation pipelines to data - before the data is joined\n",
    "- `let` allows us to declare variables in our pipeline, referring to document fields in our source collection\n",
    "- Compass' Export-to-Language feature produces aggregations in our application's native language"
   ]
  }
 ],
 "metadata": {
  "celltoolbar": "Slideshow",
  "kernelspec": {
   "display_name": "Python 3",
   "language": "python",
   "name": "python3"
  },
  "language_info": {
   "codemirror_mode": {
    "name": "ipython",
    "version": 3
   },
   "file_extension": ".py",
   "mimetype": "text/x-python",
   "name": "python",
   "nbconvert_exporter": "python",
   "pygments_lexer": "ipython3",
   "version": "3.6.5"
  }
 },
 "nbformat": 4,
 "nbformat_minor": 2
}
