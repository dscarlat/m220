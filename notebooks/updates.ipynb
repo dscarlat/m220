{
 "cells": [
  {
   "cell_type": "code",
   "execution_count": null,
   "metadata": {},
   "outputs": [],
   "source": [
    "import pymongo\n",
    "from bson.json_util import dumps\n",
    "from faker import Faker\n",
    "import random\n",
    "fake = Faker()\n",
    "fake.seed(42)\n",
    "random.seed(42)\n",
    "# IMPORTANT!! Use the connection string to your own Atlas cluster below!\n",
    "uri = \"<your_atlas_uri>\"\n",
    "client = pymongo.MongoClient(uri)\n",
    "mflix = client.mflix"
   ]
  },
  {
   "cell_type": "code",
   "execution_count": null,
   "metadata": {},
   "outputs": [],
   "source": [
    "fake_users = mflix.fake_users\n",
    "fake_users.drop()"
   ]
  },
  {
   "cell_type": "code",
   "execution_count": null,
   "metadata": {},
   "outputs": [],
   "source": [
    "def make_user(iter_count):\n",
    "    account_type = \"premium\" if iter_count % 2 == 0 else \"standard\"\n",
    "    return {\n",
    "        \"name\": fake.name(),\n",
    "        \"address\": fake.address(),\n",
    "        \"email\": fake.email(),\n",
    "        \"age\": random.randrange(18, 65),\n",
    "        \"favorite_colors\": [fake.color_name(), fake.color_name(), fake.color_name()],\n",
    "        \"account_type\": account_type\n",
    "    }"
   ]
  },
  {
   "cell_type": "code",
   "execution_count": null,
   "metadata": {},
   "outputs": [],
   "source": [
    "to_insert = [make_user(i) for i in range(10)]"
   ]
  },
  {
   "cell_type": "code",
   "execution_count": null,
   "metadata": {},
   "outputs": [],
   "source": [
    "fake_users.insert_many(to_insert)"
   ]
  },
  {
   "cell_type": "code",
   "execution_count": null,
   "metadata": {},
   "outputs": [],
   "source": [
    "print(dumps(fake_users.find_one(), indent=2))"
   ]
  },
  {
   "cell_type": "code",
   "execution_count": null,
   "metadata": {},
   "outputs": [],
   "source": [
    "allison = {\"name\": \"Allison Hill\"}\n",
    "fake_users.update_one(allison, { \"$inc\": { \"age\": 1 }})"
   ]
  },
  {
   "cell_type": "code",
   "execution_count": null,
   "metadata": {},
   "outputs": [],
   "source": [
    "print(dumps(fake_users.find_one(allison), indent=2))"
   ]
  },
  {
   "cell_type": "code",
   "execution_count": null,
   "metadata": {},
   "outputs": [],
   "source": [
    "fake_users.update_one(allison, {\"$push\": { \"favorite_colors\": \"Black\"}})"
   ]
  },
  {
   "cell_type": "code",
   "execution_count": null,
   "metadata": {},
   "outputs": [],
   "source": [
    "print(dumps(fake_users.find_one(allison), indent=2))"
   ]
  },
  {
   "cell_type": "code",
   "execution_count": null,
   "metadata": {},
   "outputs": [],
   "source": [
    "print(fake_users.count({\"account_type\": \"standard\"}))"
   ]
  },
  {
   "cell_type": "code",
   "execution_count": null,
   "metadata": {},
   "outputs": [],
   "source": [
    "print(dumps(fake_users.find({\"account_type\": \"standard\"}, { \"_id\": 0, \"name\": 1, \"account_type\": 1}), indent=2))"
   ]
  },
  {
   "cell_type": "code",
   "execution_count": null,
   "metadata": {},
   "outputs": [],
   "source": [
    "u_r = fake_users.update_many({\"account_type\": \"standard\"}, {\"$set\": { \"account_type\": \"premium\", \"free_trial\": True}})"
   ]
  },
  {
   "cell_type": "code",
   "execution_count": null,
   "metadata": {},
   "outputs": [],
   "source": [
    "print(fake_users.count({\"account_type\": \"standard\"}))"
   ]
  },
  {
   "cell_type": "code",
   "execution_count": null,
   "metadata": {},
   "outputs": [],
   "source": [
    "print(dumps(fake_users.find({\"free_trial\": True}, { \"_id\": 0, \"name\": 1, \"account_type\": 1}), indent=2))"
   ]
  },
  {
   "cell_type": "code",
   "execution_count": null,
   "metadata": {},
   "outputs": [],
   "source": [
    "print(dir(u_r))"
   ]
  },
  {
   "cell_type": "code",
   "execution_count": null,
   "metadata": {},
   "outputs": [],
   "source": [
    "print(u_r.acknowledged, u_r.matched_count, u_r.modified_count, u_r.upserted_id)"
   ]
  },
  {
   "cell_type": "code",
   "execution_count": null,
   "metadata": {},
   "outputs": [],
   "source": [
    "new_or_updated_user = make_user(0)\n",
    "u_r = fake_users.update_one({\"email\": new_or_updated_user[\"email\"]}, {\"$set\": new_or_updated_user}, upsert=True)"
   ]
  },
  {
   "cell_type": "code",
   "execution_count": null,
   "metadata": {},
   "outputs": [],
   "source": [
    "print(dumps(fake_users.find_one({\"email\": new_or_updated_user[\"email\"]}), indent=2))"
   ]
  },
  {
   "cell_type": "code",
   "execution_count": null,
   "metadata": {},
   "outputs": [],
   "source": [
    "print(u_r.acknowledged, u_r.matched_count, u_r.modified_count, u_r.upserted_id)"
   ]
  },
  {
   "cell_type": "code",
   "execution_count": null,
   "metadata": {},
   "outputs": [],
   "source": [
    "fake_users.drop()"
   ]
  }
 ],
 "metadata": {
  "kernelspec": {
   "display_name": "Python 3",
   "language": "python",
   "name": "python3"
  },
  "language_info": {
   "codemirror_mode": {
    "name": "ipython",
    "version": 3
   },
   "file_extension": ".py",
   "mimetype": "text/x-python",
   "name": "python",
   "nbconvert_exporter": "python",
   "pygments_lexer": "ipython3",
   "version": "3.6.5"
  }
 },
 "nbformat": 4,
 "nbformat_minor": 2
}
