{
 "cells": [
  {
   "cell_type": "markdown",
   "metadata": {
    "slideshow": {
     "slide_type": "slide"
    }
   },
   "source": [
    "<img src=\"https://s3.amazonaws.com/edu-static.mongodb.com/lessons/M220/notebook_assets/screen_align.png\" style=\"margin: 0 auto;\">\n"
   ]
  },
  {
   "cell_type": "markdown",
   "metadata": {
    "slideshow": {
     "slide_type": "slide"
    }
   },
   "source": [
    "<h1 style=\"text-align: center; font-size=58px;\">Your First Aggregation</h1>"
   ]
  },
  {
   "cell_type": "markdown",
   "metadata": {
    "slideshow": {
     "slide_type": "notes"
    }
   },
   "source": [
    "In this lesson we're going to briefly cover the MongoDB Aggregation Framework. We're going to use the Aggregation Builder in MongoDB Compass to export our aggregation to our language of choice."
   ]
  },
  {
   "cell_type": "markdown",
   "metadata": {
    "slideshow": {
     "slide_type": "slide"
    }
   },
   "source": [
    "- Aggregation is a pipeline\n",
    "  - Pipelines are composed of stages, broad units of work.\n",
    "  - Within stages, expressions are used to specify individual units of work.\n",
    "- Expressions are functions"
   ]
  },
  {
   "cell_type": "markdown",
   "metadata": {
    "slideshow": {
     "slide_type": "notes"
    }
   },
   "source": [
    "The Aggregation Framework is a pipeline, like the Unix shell or, to use an analogy, a conveyer belt in a factory."
   ]
  },
  {
   "cell_type": "markdown",
   "metadata": {
    "slideshow": {
     "slide_type": "slide"
    }
   },
   "source": [
    "<img src=\"https://s3.amazonaws.com/edu-static.mongodb.com/lessons/M220/notebook_assets/agg_factory.gif\" style=\"margin: 0 auto;\">\n"
   ]
  },
  {
   "cell_type": "markdown",
   "metadata": {
    "slideshow": {
     "slide_type": "notes"
    }
   },
   "source": [
    "Documents flow through the pipeline like widgets on a factory conveyor belt. Each stage is like an an assembly station. Documents enter and some work is performed on them. In this example, we have a stage to filter out colors we don't want. Then we have a stage to transform the shape. Lastly, we have a stage that collects all input, and in this case gives us the ratio of colors.\n",
    "\n",
    "Within each of these stages, expressions are being used. Expressions are the individual tools that perform detailed work."
   ]
  },
  {
   "cell_type": "markdown",
   "metadata": {
    "slideshow": {
     "slide_type": "slide"
    }
   },
   "source": [
    "Expressions are functions. Let's look at a function called **add** in Python, Java, JavaScript, and the Aggregation framework.\n"
   ]
  },
  {
   "cell_type": "markdown",
   "metadata": {
    "slideshow": {
     "slide_type": "subslide"
    }
   },
   "source": [
    "### Python\n",
    "```python\n",
    "def add(a, b):\n",
    "    return a + b\n",
    "```"
   ]
  },
  {
   "cell_type": "markdown",
   "metadata": {
    "slideshow": {
     "slide_type": "subslide"
    }
   },
   "source": [
    "### Java\n",
    "```java\n",
    "static <T extends Number> double add(T a, T b) {\n",
    "    return a.doubleValue() + b.doubleValue();\n",
    "}\n",
    "```"
   ]
  },
  {
   "cell_type": "markdown",
   "metadata": {
    "slideshow": {
     "slide_type": "subslide"
    }
   },
   "source": [
    "### JavaScript\n",
    "```javascript\n",
    "function add(a, b) {\n",
    "  return a + b\n",
    "}\n",
    "```"
   ]
  },
  {
   "cell_type": "markdown",
   "metadata": {
    "slideshow": {
     "slide_type": "subslide"
    }
   },
   "source": [
    "### Aggregation\n",
    "```\n",
    "{ \"$add\": [\"$a\", \"$b\"] }\n",
    "```"
   ]
  },
  {
   "cell_type": "markdown",
   "metadata": {},
   "source": [
    "# Reviewer Note\n",
    "Read the following as notes slide as: \n",
    "\n",
    "All are equivalent. We have a course that dives much more deeply into aggregation, covering syntax and semantics and almost every stage. You can find more by looking in the lesson handout. Also included is a link to the Aggregation Quick Reference."
   ]
  },
  {
   "cell_type": "markdown",
   "metadata": {
    "slideshow": {
     "slide_type": "notes"
    }
   },
   "source": [
    "All are equivalent, adding the values \"a\" and \"b\" together. We have a course that dives much more deeply into aggregation, covering syntax and semantics and almost every stage. You can find out more by following [this link](https://university.mongodb.com/courses/M121/about).\n",
    "\n",
    "A link to the Aggregation Quick Reference is [here](https://docs.mongodb.com/manual/meta/aggregation-quick-reference/)"
   ]
  },
  {
   "cell_type": "markdown",
   "metadata": {
    "slideshow": {
     "slide_type": "slide"
    }
   },
   "source": [
    "# Compass Aggregation Builder"
   ]
  },
  {
   "cell_type": "markdown",
   "metadata": {
    "slideshow": {
     "slide_type": "notes"
    }
   },
   "source": [
    "We have Compass open and connected to an Atlas cluster. We've selected the mflix database and the movies collection.\n",
    "\n",
    "Let's minimize this sidebar to make more room.\n",
    "\n",
    "Lastly, lets select the Aggregations tab."
   ]
  },
  {
   "cell_type": "markdown",
   "metadata": {
    "slideshow": {
     "slide_type": "notes"
    }
   },
   "source": [
    "Ok, let's perform an aggregation. For this aggregation, we're going to get the average rating for all movies Sam Raimi has directed. On a scale of 1 to 10, we know Army of Darkness alone will put him at a 14.\n",
    "\n",
    "First, let's start with a ``$match`` stage, which is very similar to a standard query. The difference is really semantics here though. Where a find operation only returns us documents that match a predicate, the ``$match`` stage only lets documents continue flowing through the pipeline that match.\n",
    "\n",
    "```javascript\n",
    "{\n",
    "  directors: \"Sam Raimi\"\n",
    "}\n",
    "```"
   ]
  },
  {
   "cell_type": "markdown",
   "metadata": {
    "slideshow": {
     "slide_type": "notes"
    }
   },
   "source": [
    "And we can see a sampling of documents that met this criteria. Let's add another stage, projecting away all information except the title and the imbd.rating.\n",
    "\n",
    "```javascript\n",
    "{\n",
    "  _id: 0,\n",
    "  title: 1,\n",
    "  \"imdb.rating\": 1\n",
    "}\n",
    "```\n",
    "\n",
    "Just like projection mechanics with find operations, if we want to remove the _id we have to explicitly do so."
   ]
  },
  {
   "cell_type": "markdown",
   "metadata": {
    "slideshow": {
     "slide_type": "notes"
    }
   },
   "source": [
    "Lastly, let's add a `$group` stage. We'll group all incoming documents together and get an average rating.\n",
    "\n",
    "```javascript\n",
    "{\n",
    "  _id: 0,\n",
    "  avg_rating: {\n",
    "    \"$avg\": \"$imdb.rating\"\n",
    "  }\n",
    "}\n",
    "```\n",
    "\n",
    "It's matched all incoming documents together because I've specified 0 as the value to _id, and using the $avg accumulator expression gathers all incoming imdb.rating values (point) and then averages them together.\n",
    "\n",
    "And as output we see the grouping criteria, which was none, and and average rating value, which is a very funny looking 10. I'll have to check the fonts on this computer."
   ]
  },
  {
   "cell_type": "markdown",
   "metadata": {
    "slideshow": {
     "slide_type": "slide"
    }
   },
   "source": [
    "## Summary\n",
    "\n",
    "- Aggregation is a pipeline\n",
    "- Pipelines are composed of one or more stages\n",
    "- Stages use one or more expressions\n",
    "- Expressions are functions"
   ]
  },
  {
   "cell_type": "markdown",
   "metadata": {
    "slideshow": {
     "slide_type": "notes"
    }
   },
   "source": [
    "Again, you can find more information about our Aggregation course by following [this link](https://university.mongodb.com/courses/M121/about), and a link to the Aggregation Quick Reference is [here](https://docs.mongodb.com/manual/meta/aggregation-quick-reference/)"
   ]
  }
 ],
 "metadata": {
  "celltoolbar": "Slideshow",
  "kernelspec": {
   "display_name": "Python 3",
   "language": "python",
   "name": "python3"
  },
  "language_info": {
   "codemirror_mode": {
    "name": "ipython",
    "version": 3
   },
   "file_extension": ".py",
   "mimetype": "text/x-python",
   "name": "python",
   "nbconvert_exporter": "python",
   "pygments_lexer": "ipython3",
   "version": "3.7.0"
  }
 },
 "nbformat": 4,
 "nbformat_minor": 2
}
