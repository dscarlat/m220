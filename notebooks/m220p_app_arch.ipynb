{
 "cells": [
  {
   "cell_type": "markdown",
   "metadata": {
    "slideshow": {
     "slide_type": "slide"
    }
   },
   "source": [
    "<img src=\"https://s3.amazonaws.com/edu-static.mongodb.com/lessons/M220/notebook_assets/screen_align.png\" style=\"margin: 0 auto;\n",
    "    max-width: 100%;\n",
    "    max-height: 100%;\">\n"
   ]
  },
  {
   "cell_type": "markdown",
   "metadata": {
    "slideshow": {
     "slide_type": "slide"
    }
   },
   "source": [
    "<h1 style=\"text-align: center; font-size=58px;\">M220P Application Architecture</h1>"
   ]
  },
  {
   "cell_type": "markdown",
   "metadata": {
    "slideshow": {
     "slide_type": "notes"
    }
   },
   "source": [
    "In this lesson, we'll go over the application architecture for the MFlix Application."
   ]
  },
  {
   "cell_type": "markdown",
   "metadata": {
    "slideshow": {
     "slide_type": "slide"
    }
   },
   "source": [
    "<img src=\"https://s3.amazonaws.com/edu-static.mongodb.com/lessons/M220/notebook_assets/m220p_app_arch.png\" style=\"margin: 0 auto;\n",
    "    max-width: 800px;\n",
    "    max-height: 550px;\">"
   ]
  },
  {
   "cell_type": "markdown",
   "metadata": {
    "slideshow": {
     "slide_type": "notes"
    }
   },
   "source": [
    "Here is an overview of the structure using the \"tree\" command in my terminal. \n",
    "\n",
    "The README.md file contains detailed instructions for setting up your environment as well as information about the layout of the project.\n",
    "\n",
    "There are two directories under the mflix directory, api and build. api contains the Flask route handlers for the application, and build contains the frontend application. Both of these are completed for you to allow you to focus solely on learning to use Pymongo and MongoDB.\n",
    "\n",
    "The db.py file is where most of your effort will be focused. It contains all of the methods that interact with the database. Initially most of these will just be stubs that you will have to fill out with the required functionality. You do not need to have MongoDB installed as you'll be using your own MongoDB Atlas database.\n",
    "\n",
    "factory.py contains functionality that assembles the flask application for running. You won't have to modify this file.\n",
    "\n",
    "Lastly, the tests directory contains all of the unit tests.\n",
    "\n",
    "Throughout the course, you'll be presented with labs titled \"Ticket\". These will contain a user story or some other instruction along with instructions for running the particular test suite for this ticket. Once all of the tests are passing for that particular task, you'll go to the \"Status\" page in the UI."
   ]
  },
  {
   "cell_type": "markdown",
   "metadata": {
    "slideshow": {
     "slide_type": "slide"
    }
   },
   "source": [
    "# Summary\n",
    "\n",
    "- README.md file contains detailed setup instructions\n",
    "- API layer is implemented by `movies.py` and `user.py` in the **mflix/api** folder\n",
    "    - Do not modify either of these files\n",
    "- `db.py` file contains all methods that interact with the database\n",
    "    - Modify this file to implement required functionality\n",
    "- **tests** directory contains all unit tests\n",
    "    - Run these tests as you go\n",
    "    - We recommend you focus on making tests pass one by one rather than trying to make all tests in the suite pass at once."
   ]
  },
  {
   "cell_type": "markdown",
   "metadata": {
    "slideshow": {
     "slide_type": "notes"
    }
   },
   "source": [
    "That sums up the application architecture. \n",
    "\n",
    "Remember to read the README file as it contains detailed setup instructions. \n",
    "\n",
    "The API layer that handles requests when the application is running is implemented in movies.py and user.py. Feel free to look at these files but do not modfiy them as doing so may prevent the UI from validating correctly.\n",
    "\n",
    "db.py is where all of the methods that interact with Atlas are located and where you will be doing all of your implementation.\n",
    "\n",
    "The tests directory contains all of the unit tests. Make sure you read them to see what is being passed into the methods. We also highly recommend that you focus on making one test pass at a time. If there are 4 or 5 unit tests within a test file, write enough functionality to make one test pass. Trying to make all the tests pass on your first try can lead to frustration!"
   ]
  }
 ],
 "metadata": {
  "celltoolbar": "Slideshow",
  "kernelspec": {
   "display_name": "Python 3",
   "language": "python",
   "name": "python3"
  },
  "language_info": {
   "codemirror_mode": {
    "name": "ipython",
    "version": 3
   },
   "file_extension": ".py",
   "mimetype": "text/x-python",
   "name": "python",
   "nbconvert_exporter": "python",
   "pygments_lexer": "ipython3",
   "version": "3.6.4"
  }
 },
 "nbformat": 4,
 "nbformat_minor": 2
}
