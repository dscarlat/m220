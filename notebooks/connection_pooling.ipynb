{
 "cells": [
  {
   "cell_type": "markdown",
   "metadata": {
    "slideshow": {
     "slide_type": "slide"
    }
   },
   "source": [
    "<img src=\"https://s3.amazonaws.com/edu-static.mongodb.com/lessons/M220/notebook_assets/screen_align.png\" style=\"margin: 0 auto;\">\n"
   ]
  },
  {
   "cell_type": "markdown",
   "metadata": {
    "slideshow": {
     "slide_type": "slide"
    }
   },
   "source": [
    "<h1 style=\"text-align: center; font-size=58px;\">Connection Pooling</h1>"
   ]
  },
  {
   "cell_type": "markdown",
   "metadata": {
    "slideshow": {
     "slide_type": "notes"
    }
   },
   "source": [
    "In this lesson we're going to cover connection pooling in MongoDB."
   ]
  },
  {
   "cell_type": "markdown",
   "metadata": {
    "slideshow": {
     "slide_type": "slide"
    }
   },
   "source": [
    "Reusing database connections."
   ]
  },
  {
   "cell_type": "markdown",
   "metadata": {
    "slideshow": {
     "slide_type": "notes"
    }
   },
   "source": [
    "So what is connection pooling? \n",
    "\n",
    "If we look on Wikipedia, it says \"In software engineering, a connection pool is a cache of database connections maintained so that the connections can be reused when future requests to the database are required.\"\n",
    "\n",
    "What does that mean?"
   ]
  },
  {
   "cell_type": "markdown",
   "metadata": {
    "slideshow": {
     "slide_type": "slide"
    }
   },
   "source": [
    "<img src=\"https://s3.amazonaws.com/edu-static.mongodb.com/lessons/M220/notebook_assets/replica_set_connection_pooling_three_connections.png\" style=\"margin: 0 auto;\">"
   ]
  },
  {
   "cell_type": "markdown",
   "metadata": {
    "slideshow": {
     "slide_type": "notes"
    }
   },
   "source": [
    "Imagine you run a taxi service ferrying people to and from one point to another. But rather than reuse the same taxi after you transport one customer, you scrap that vehicle and go buy another.\n",
    "\n",
    "When issuing several different requests to the database, we could take the lazy approach and just create a new connection whenever we need to make a request, and when the request's done we just destroy the connection. The issue with this approach is that establishing a database connection requires time and computing resources, to complete the handshake with the server and whatnot. We're essentially paying the cost of waiting for this connection to establish for every request.\n",
    "\n",
    "Connection pooling helps reduce the overhead of creating database connections, by creating a whole bunch right off the bat. Then as requests come in, different connections in the pool are allocated to fulfill those requests.\n",
    "\n",
    "By default, drivers will establish a connection pool with 100 connections to share. So 100 connections will get created off the bat, and then get assigned to different requests as they come in. This default of 100 connections is adequate for most applications.\n",
    "\n",
    "Additionally, if we didn't use a connection pool and we suddently got a **whole lot** of requests, we might easily reach the limit that our hardware and software could handle, leading to a lot of errors and unhappy developers."
   ]
  },
  {
   "cell_type": "markdown",
   "metadata": {
    "slideshow": {
     "slide_type": "slide"
    }
   },
   "source": [
    "## Summary\n",
    "\n",
    "- Connection pools allow for reuse of connections\n",
    "- Subsequent requests appear faster to the client\n",
    "- Default size of 100"
   ]
  },
  {
   "cell_type": "markdown",
   "metadata": {
    "slideshow": {
     "slide_type": "notes"
    }
   },
   "source": [
    "So just to recap, connection pools allow connections to be quickly recycled for new requests for the database. To the developer, this will make database operations look faster, because the cost to create the new connection has already been paid, in a sense.\n",
    "\n",
    "And in Mongo drivers, the default connection pool is 100 connections large."
   ]
  }
 ],
 "metadata": {
  "celltoolbar": "Slideshow",
  "kernelspec": {
   "display_name": "Python 3",
   "language": "python",
   "name": "python3"
  },
  "language_info": {
   "codemirror_mode": {
    "name": "ipython",
    "version": 3
   },
   "file_extension": ".py",
   "mimetype": "text/x-python",
   "name": "python",
   "nbconvert_exporter": "python",
   "pygments_lexer": "ipython3",
   "version": "3.6.5"
  }
 },
 "nbformat": 4,
 "nbformat_minor": 2
}
